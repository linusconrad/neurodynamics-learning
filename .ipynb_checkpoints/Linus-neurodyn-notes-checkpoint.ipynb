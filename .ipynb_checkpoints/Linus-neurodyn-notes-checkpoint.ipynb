{
 "cells": [
  {
   "cell_type": "markdown",
   "metadata": {},
   "source": [
    "# Learning Simulations\n",
    "These are my notes for going through the excercises in the neuronal dynamics textbook.\n"
   ]
  },
  {
   "cell_type": "code",
   "execution_count": 3,
   "metadata": {},
   "outputs": [],
   "source": [
    "# Import brian\n",
    "from brian2 import *\n",
    "#activate inline use of matplotlib\n",
    "%matplotlib inline"
   ]
  },
  {
   "cell_type": "markdown",
   "metadata": {},
   "source": [
    "Define a very simple neuron with this syntax.\n",
    "The text in the apostrophe environment are the differential equations that define the behaviour.\n"
   ]
  },
  {
   "cell_type": "code",
   "execution_count": 5,
   "metadata": {},
   "outputs": [],
   "source": [
    "tau = 10*ms             # a time constant\n",
    "eqs = '''\n",
    "dv/dt = (1-v)/tau : 1\n",
    "'''"
   ]
  },
  {
   "cell_type": "markdown",
   "metadata": {},
   "source": [
    "Now we can put the equation into a neuron.\n",
    "The equation formally typed out:\n",
    "\\begin{equation}\n",
    "\\frac{\\partial v}{\\partial t} = \\frac{(1-v)}{\\tau}\n",
    "\\end{equation}\n",
    "This equation is a simple exponential decay with $\\tau$ time constant.\n",
    "\n",
    "Next we assign a Neuron with that voltage equation.\n",
    "Neurons are always assigned as a neuron group."
   ]
  },
  {
   "cell_type": "code",
   "execution_count": 6,
   "metadata": {},
   "outputs": [],
   "source": [
    "G = NeuronGroup(1, eqs)"
   ]
  },
  {
   "cell_type": "markdown",
   "metadata": {},
   "source": [
    "Now we can simulate the timecourse with the run command."
   ]
  },
  {
   "cell_type": "code",
   "execution_count": 7,
   "metadata": {},
   "outputs": [
    {
     "name": "stderr",
     "output_type": "stream",
     "text": [
      "INFO       No numerical integration method specified for group 'neurongroup', using method 'exact' (took 0.04s). [brian2.stateupdaters.base.method_choice]\n"
     ]
    }
   ],
   "source": [
    "run(100*ms)"
   ]
  },
  {
   "cell_type": "markdown",
   "metadata": {},
   "source": [
    "Next, we would like to simulate and look at different aspects of the model as it evolves in time.\n",
    "Variables of the model at a given point in time are referred to as *states* by brian.\n",
    "The following block simulates and records the time course of voltage based on the model (it should just be an exponential asymptote to 1)\n",
    "\n"
   ]
  },
  {
   "cell_type": "code",
   "execution_count": 12,
   "metadata": {},
   "outputs": [
    {
     "data": {
      "image/png": "[encoded data removed]",
      "text/plain": [
       "<Figure size 432x288 with 1 Axes>"
      ]
     },
     "metadata": {
      "needs_background": "light"
     },
     "output_type": "display_data"
    }
   ],
   "source": [
    "start_scope()\n",
    "\n",
    "G = NeuronGroup(1, eqs, method='exact')\n",
    "M = StateMonitor(G, 'v', record=0)\n",
    "\n",
    "run(30*ms)\n",
    "\n",
    "plot(M.t/ms, M.v[0])\n",
    "xlabel('Time (ms)')\n",
    "ylabel('v');"
   ]
  },
  {
   "cell_type": "markdown",
   "metadata": {},
   "source": [
    "State monitor objects are used to store the information of a run.\n",
    "The neurons have to be specified (here: `record = 0` option) in order to preserve memory."
   ]
  },
  {
   "cell_type": "code",
   "execution_count": null,
   "metadata": {},
   "outputs": [],
   "source": []
  }
 ],
 "metadata": {
  "jupytext": {
   "formats": "ipynb,Rmd"
  },
  "kernelspec": {
   "display_name": "Python 3",
   "language": "python",
   "name": "python3"
  },
  "language_info": {
   "codemirror_mode": {
    "name": "ipython",
    "version": 3
   },
   "file_extension": ".py",
   "mimetype": "text/x-python",
   "name": "python",
   "nbconvert_exporter": "python",
   "pygments_lexer": "ipython3",
   "version": "3.6.10"
  }
 },
 "nbformat": 4,
 "nbformat_minor": 4
}
