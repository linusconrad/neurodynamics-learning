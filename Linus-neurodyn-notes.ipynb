{
 "cells": [
  {
   "cell_type": "markdown",
   "metadata": {},
   "source": [
    "# Learning Simulations\n",
    "These are my notes for going through the excercises in the neuronal dynamics textbook.\n"
   ]
  },
  {
   "cell_type": "code",
   "execution_count": 1,
   "metadata": {},
   "outputs": [],
   "source": [
    "# Import brian\n",
    "from brian2 import *\n",
    "# data frame support and `tidy` plotting\n",
    "import pandas as pd\n",
    "import  numpy\n",
    "import seaborn\n",
    "#activate inline use of matplotlib\n",
    "%matplotlib inline"
   ]
  },
  {
   "cell_type": "markdown",
   "metadata": {},
   "source": [
    "Define a very simple neuron with this syntax.\n",
    "The text in the apostrophe environment are the differential equations that define the behaviour.\n"
   ]
  },
  {
   "cell_type": "code",
   "execution_count": 2,
   "metadata": {},
   "outputs": [],
   "source": [
    "tau = 10*ms             # a time constant\n",
    "eqs = '''\n",
    "dv/dt = (1-v)/tau : 1\n",
    "'''"
   ]
  },
  {
   "cell_type": "markdown",
   "metadata": {},
   "source": [
    "Now we can put the equation into a neuron.\n",
    "The equation formally typed out:\n",
    "\\begin{equation}\n",
    "\\frac{\\partial v}{\\partial t} = \\frac{(1-v)}{\\tau}\n",
    "\\end{equation}\n",
    "This equation is a simple exponential decay with $\\tau$ time constant.\n",
    "\n",
    "\\begin{equation}\n",
    "v(t) = 1-\\exp\\left(\\frac{-t}{\\tau}\\right)\n",
    "\\end{equation}\n",
    "\n",
    "\n",
    "Next we assign a Neuron with that voltage equation.\n",
    "Neurons are always assigned as a neuron group."
   ]
  },
  {
   "cell_type": "code",
   "execution_count": 3,
   "metadata": {},
   "outputs": [],
   "source": [
    "G = NeuronGroup(1, eqs)"
   ]
  },
  {
   "cell_type": "markdown",
   "metadata": {},
   "source": [
    "Now we can simulate the timecourse with the run command."
   ]
  },
  {
   "cell_type": "code",
   "execution_count": 4,
   "metadata": {},
   "outputs": [
    {
     "name": "stderr",
     "output_type": "stream",
     "text": [
      "INFO       No numerical integration method specified for group 'neurongroup', using method 'exact' (took 0.03s). [brian2.stateupdaters.base.method_choice]\n"
     ]
    }
   ],
   "source": [
    "run(100*ms)"
   ]
  },
  {
   "cell_type": "markdown",
   "metadata": {},
   "source": [
    "Next, we would like to simulate and look at different aspects of the model as it evolves in time.\n",
    "Variables of the model at a given point in time are referred to as *states* by brian.\n",
    "The following block simulates and records the time course of voltage based on the model (it should just be an exponential asymptote to 1)\n",
    "\n"
   ]
  },
  {
   "cell_type": "code",
   "execution_count": 5,
   "metadata": {},
   "outputs": [
    {
     "data": {
      "image/png": "[encoded data removed]",
      "text/plain": [
       "<Figure size 432x288 with 1 Axes>"
      ]
     },
     "metadata": {
      "needs_background": "light"
     },
     "output_type": "display_data"
    }
   ],
   "source": [
    "start_scope()\n",
    "\n",
    "G = NeuronGroup(1, eqs, method='exact')\n",
    "M = StateMonitor(G, 'v', record=0)\n",
    "\n",
    "run(30*ms)\n",
    "\n",
    "plot(M.t/ms, M.v[0])\n",
    "xlabel('Time (ms)')\n",
    "ylabel('v');"
   ]
  },
  {
   "cell_type": "markdown",
   "metadata": {},
   "source": [
    "State monitor objects are used to store the information of a run.\n",
    "The neurons have to be specified (here: `record = 0` option) in order to preserve memory.\n",
    "\n",
    "Now we can introduce spiking behaviour.\n",
    "Whenever the threshold is reached, voltage gets set to 0, and decays with the defined equation.\n",
    "These can both be specified in the neuron specification."
   ]
  },
  {
   "cell_type": "code",
   "execution_count": 18,
   "metadata": {},
   "outputs": [
    {
     "data": {
      "image/png": "[encoded data removed]",
      "text/plain": [
       "<Figure size 432x288 with 1 Axes>"
      ]
     },
     "metadata": {
      "needs_background": "light"
     },
     "output_type": "display_data"
    }
   ],
   "source": [
    "start_scope()\n",
    "\n",
    "tau = 10*ms\n",
    "eqs = '''\n",
    "dv/dt = (1-v)/tau : 1\n",
    "'''\n",
    "\n",
    "G = NeuronGroup(1, eqs, threshold='v>0.8', reset='v = 0', method='exact')\n",
    "\n",
    "M = StateMonitor(G, 'v', record=True)\n",
    "run(50*ms)\n",
    "plot(M.t/ms, M.v[0])\n",
    "xlabel('Time (ms)')\n",
    "ylabel('v');"
   ]
  },
  {
   "cell_type": "markdown",
   "metadata": {},
   "source": [
    "`StateMonitor` are 2D arrays with the index of the neuron, and the value of the timecourse.\n",
    "This *should* lend itself to create tidy dataframes from this.\n",
    "It can be done with the `get.states` syntax (requires pandas)."
   ]
  },
  {
   "cell_type": "code",
   "execution_count": 20,
   "metadata": {},
   "outputs": [
    {
     "data": {
      "text/html": [
       "<div>\n",
       "<style scoped>\n",
       "    .dataframe tbody tr th:only-of-type {\n",
       "        vertical-align: middle;\n",
       "    }\n",
       "\n",
       "    .dataframe tbody tr th {\n",
       "        vertical-align: top;\n",
       "    }\n",
       "\n",
       "    .dataframe thead th {\n",
       "        text-align: right;\n",
       "    }\n",
       "</style>\n",
       "<table border=\"1\" class=\"dataframe\">\n",
       "  <thead>\n",
       "    <tr style=\"text-align: right;\">\n",
       "      <th></th>\n",
       "      <th>N</th>\n",
       "      <th>t</th>\n",
       "      <th>V</th>\n",
       "    </tr>\n",
       "  </thead>\n",
       "  <tbody>\n",
       "    <tr>\n",
       "      <th>0</th>\n",
       "      <td>1</td>\n",
       "      <td>0.0000</td>\n",
       "      <td>0.000000</td>\n",
       "    </tr>\n",
       "    <tr>\n",
       "      <th>1</th>\n",
       "      <td>1</td>\n",
       "      <td>0.0001</td>\n",
       "      <td>0.009950</td>\n",
       "    </tr>\n",
       "    <tr>\n",
       "      <th>2</th>\n",
       "      <td>1</td>\n",
       "      <td>0.0002</td>\n",
       "      <td>0.019801</td>\n",
       "    </tr>\n",
       "    <tr>\n",
       "      <th>3</th>\n",
       "      <td>1</td>\n",
       "      <td>0.0003</td>\n",
       "      <td>0.029554</td>\n",
       "    </tr>\n",
       "    <tr>\n",
       "      <th>4</th>\n",
       "      <td>1</td>\n",
       "      <td>0.0004</td>\n",
       "      <td>0.039211</td>\n",
       "    </tr>\n",
       "    <tr>\n",
       "      <th>...</th>\n",
       "      <td>...</td>\n",
       "      <td>...</td>\n",
       "      <td>...</td>\n",
       "    </tr>\n",
       "    <tr>\n",
       "      <th>495</th>\n",
       "      <td>1</td>\n",
       "      <td>0.0495</td>\n",
       "      <td>0.113080</td>\n",
       "    </tr>\n",
       "    <tr>\n",
       "      <th>496</th>\n",
       "      <td>1</td>\n",
       "      <td>0.0496</td>\n",
       "      <td>0.121905</td>\n",
       "    </tr>\n",
       "    <tr>\n",
       "      <th>497</th>\n",
       "      <td>1</td>\n",
       "      <td>0.0497</td>\n",
       "      <td>0.130642</td>\n",
       "    </tr>\n",
       "    <tr>\n",
       "      <th>498</th>\n",
       "      <td>1</td>\n",
       "      <td>0.0498</td>\n",
       "      <td>0.139292</td>\n",
       "    </tr>\n",
       "    <tr>\n",
       "      <th>499</th>\n",
       "      <td>1</td>\n",
       "      <td>0.0499</td>\n",
       "      <td>0.147856</td>\n",
       "    </tr>\n",
       "  </tbody>\n",
       "</table>\n",
       "<p>500 rows × 3 columns</p>\n",
       "</div>"
      ],
      "text/plain": [
       "     N       t         V\n",
       "0    1  0.0000  0.000000\n",
       "1    1  0.0001  0.009950\n",
       "2    1  0.0002  0.019801\n",
       "3    1  0.0003  0.029554\n",
       "4    1  0.0004  0.039211\n",
       "..  ..     ...       ...\n",
       "495  1  0.0495  0.113080\n",
       "496  1  0.0496  0.121905\n",
       "497  1  0.0497  0.130642\n",
       "498  1  0.0498  0.139292\n",
       "499  1  0.0499  0.147856\n",
       "\n",
       "[500 rows x 3 columns]"
      ]
     },
     "execution_count": 20,
     "metadata": {},
     "output_type": "execute_result"
    }
   ],
   "source": [
    "test = M.get_states(['t','v'[0]], units =False)\n",
    "#test\n",
    "#len(M.v[0])\n",
    "pd.DataFrame({\n",
    "    'N': len(M.v),\n",
    "    't': M.t,\n",
    "    'V': M.v[0]})\n"
   ]
  },
  {
   "cell_type": "markdown",
   "metadata": {},
   "source": [
    "This produces the output I want from this one, but is not quite what I want yet, we can go back to it.\n",
    "Want to have a tidy format dataframe generated from a `StateMonitor` call that can handle multiple variables and neurons.\n",
    "Should be doable with for loops.\n",
    "\n",
    "Pseudocode:\n",
    "\n",
    "* For each neuron in number_neurons\n",
    "    - do a call to get states that produces a tidy output for that neuron\n",
    "* then append these tidy frames to each other with a neuron index variable\n",
    "* assign that to the main environment\n",
    "\n",
    "Seaborn is the graphing library that should come close to functionaity to ggplot and has a tidy working paradigm.\n",
    "Try to explore the tidy set created."
   ]
  },
  {
   "cell_type": "code",
   "execution_count": null,
   "metadata": {},
   "outputs": [],
   "source": []
  },
  {
   "cell_type": "code",
   "execution_count": null,
   "metadata": {},
   "outputs": [],
   "source": []
  }
 ],
 "metadata": {
  "jupytext": {
   "formats": "ipynb,Rmd"
  },
  "kernelspec": {
   "display_name": "Python 3",
   "language": "python",
   "name": "python3"
  },
  "language_info": {
   "codemirror_mode": {
    "name": "ipython",
    "version": 3
   },
   "file_extension": ".py",
   "mimetype": "text/x-python",
   "name": "python",
   "nbconvert_exporter": "python",
   "pygments_lexer": "ipython3",
   "version": "3.6.10"
  }
 },
 "nbformat": 4,
 "nbformat_minor": 4
}
